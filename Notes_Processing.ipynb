{
 "cells": [
  {
   "cell_type": "code",
   "execution_count": 1,
   "metadata": {},
   "outputs": [],
   "source": [
    "import pandas as pd\n",
    "import numpy as np\n",
    "import matplotlib.pyplot as plt"
   ]
  },
  {
   "cell_type": "code",
   "execution_count": 2,
   "metadata": {},
   "outputs": [],
   "source": [
    "# Load admissions data\n",
    "df_adm = pd.read_csv('../mimic/ADMISSIONS.csv')\n",
    "df_adm.ADMITTIME = pd.to_datetime(df_adm.ADMITTIME, format = '%Y-%m-%d %H:%M:%S', errors = 'coerce')\n",
    "df_adm.DISCHTIME = pd.to_datetime(df_adm.DISCHTIME, format = '%Y-%m-%d %H:%M:%S', errors = 'coerce')\n",
    "df_adm.DEATHTIME = pd.to_datetime(df_adm.DEATHTIME, format = '%Y-%m-%d %H:%M:%S', errors = 'coerce')"
   ]
  },
  {
   "cell_type": "code",
   "execution_count": 3,
   "metadata": {},
   "outputs": [],
   "source": [
    "# sort by subject, then admit times\n",
    "df_adm = df_adm.sort_values(['SUBJECT_ID','ADMITTIME'])\n",
    "df_adm = df_adm.reset_index(drop = True)\n",
    "\n",
    "# add columns for next admission time and type\n",
    "df_adm['NEXT_ADMITTIME'] = df_adm.groupby('SUBJECT_ID').ADMITTIME.shift(-1)\n",
    "df_adm['NEXT_ADMISSION_TYPE'] = df_adm.groupby('SUBJECT_ID').ADMISSION_TYPE.shift(-1)"
   ]
  },
  {
   "cell_type": "code",
   "execution_count": 4,
   "metadata": {},
   "outputs": [],
   "source": [
    "# Don't count appointments (only emergencies)\n",
    "rows = df_adm.NEXT_ADMISSION_TYPE == 'ELECTIVE'\n",
    "df_adm.loc[rows,'NEXT_ADMITTIME'] = pd.NaT\n",
    "df_adm.loc[rows,'NEXT_ADMISSION_TYPE'] = np.NaN\n",
    "\n",
    "df_adm = df_adm.sort_values(['SUBJECT_ID','ADMITTIME'])"
   ]
  },
  {
   "cell_type": "code",
   "execution_count": 5,
   "metadata": {},
   "outputs": [],
   "source": [
    "#When we filter out the \"ELECTIVE\", we need to correct the next admit time for these admissions since there might be 'emergency' next admit after \"ELECTIVE\"\n",
    "df_adm[['NEXT_ADMITTIME','NEXT_ADMISSION_TYPE']] = df_adm.groupby(['SUBJECT_ID'])[['NEXT_ADMITTIME','NEXT_ADMISSION_TYPE']].fillna(method = 'bfill')\n",
    "# calculate days until next admission\n",
    "df_adm['DAYS_NEXT_ADMIT']=  (df_adm.NEXT_ADMITTIME - df_adm.DISCHTIME).dt.total_seconds()/(24*60*60)\n",
    "# Set output label to 1 if next admission is within 30 days, and 0 else.\n",
    "df_adm['OUTPUT_LABEL'] = (df_adm.DAYS_NEXT_ADMIT < 30).astype('int')"
   ]
  },
  {
   "cell_type": "code",
   "execution_count": 6,
   "metadata": {},
   "outputs": [],
   "source": [
    "# Filter out newborn and death; these are not relavent\n",
    "df_adm = df_adm[df_adm['ADMISSION_TYPE']!='NEWBORN']\n",
    "df_adm = df_adm[df_adm.DEATHTIME.isnull()]\n",
    "df_adm['DURATION'] = (df_adm['DISCHTIME']-df_adm['ADMITTIME']).dt.total_seconds()/(24*60*60)"
   ]
  },
  {
   "cell_type": "code",
   "execution_count": 7,
   "metadata": {},
   "outputs": [
    {
     "data": {
      "text/html": [
       "<div>\n",
       "<style scoped>\n",
       "    .dataframe tbody tr th:only-of-type {\n",
       "        vertical-align: middle;\n",
       "    }\n",
       "\n",
       "    .dataframe tbody tr th {\n",
       "        vertical-align: top;\n",
       "    }\n",
       "\n",
       "    .dataframe thead th {\n",
       "        text-align: right;\n",
       "    }\n",
       "</style>\n",
       "<table border=\"1\" class=\"dataframe\">\n",
       "  <thead>\n",
       "    <tr style=\"text-align: right;\">\n",
       "      <th></th>\n",
       "      <th>ROW_ID</th>\n",
       "      <th>SUBJECT_ID</th>\n",
       "      <th>HADM_ID</th>\n",
       "      <th>ADMITTIME</th>\n",
       "      <th>DISCHTIME</th>\n",
       "      <th>DEATHTIME</th>\n",
       "      <th>ADMISSION_TYPE</th>\n",
       "      <th>ADMISSION_LOCATION</th>\n",
       "      <th>DISCHARGE_LOCATION</th>\n",
       "      <th>INSURANCE</th>\n",
       "      <th>...</th>\n",
       "      <th>EDREGTIME</th>\n",
       "      <th>EDOUTTIME</th>\n",
       "      <th>DIAGNOSIS</th>\n",
       "      <th>HOSPITAL_EXPIRE_FLAG</th>\n",
       "      <th>HAS_CHARTEVENTS_DATA</th>\n",
       "      <th>NEXT_ADMITTIME</th>\n",
       "      <th>NEXT_ADMISSION_TYPE</th>\n",
       "      <th>DAYS_NEXT_ADMIT</th>\n",
       "      <th>OUTPUT_LABEL</th>\n",
       "      <th>DURATION</th>\n",
       "    </tr>\n",
       "  </thead>\n",
       "  <tbody>\n",
       "    <tr>\n",
       "      <th>50052</th>\n",
       "      <td>50053</td>\n",
       "      <td>71921</td>\n",
       "      <td>156938</td>\n",
       "      <td>2179-03-12 07:15:00</td>\n",
       "      <td>2179-03-16 12:36:00</td>\n",
       "      <td>NaT</td>\n",
       "      <td>ELECTIVE</td>\n",
       "      <td>PHYS REFERRAL/NORMAL DELI</td>\n",
       "      <td>SNF</td>\n",
       "      <td>Medicare</td>\n",
       "      <td>...</td>\n",
       "      <td>NaN</td>\n",
       "      <td>NaN</td>\n",
       "      <td>RIGHT HIP PAIN/SDA</td>\n",
       "      <td>0</td>\n",
       "      <td>0</td>\n",
       "      <td>NaT</td>\n",
       "      <td>NaN</td>\n",
       "      <td>NaN</td>\n",
       "      <td>0</td>\n",
       "      <td>4.222917</td>\n",
       "    </tr>\n",
       "    <tr>\n",
       "      <th>16381</th>\n",
       "      <td>16382</td>\n",
       "      <td>13355</td>\n",
       "      <td>140880</td>\n",
       "      <td>2159-05-08 16:38:00</td>\n",
       "      <td>2159-05-10 16:10:00</td>\n",
       "      <td>NaT</td>\n",
       "      <td>EMERGENCY</td>\n",
       "      <td>CLINIC REFERRAL/PREMATURE</td>\n",
       "      <td>HOME WITH HOME IV PROVIDR</td>\n",
       "      <td>Private</td>\n",
       "      <td>...</td>\n",
       "      <td>NaN</td>\n",
       "      <td>NaN</td>\n",
       "      <td>SHORT GUT SYNDROME\\ TUNNELLED CATHETER</td>\n",
       "      <td>0</td>\n",
       "      <td>1</td>\n",
       "      <td>2159-06-11 12:00:00</td>\n",
       "      <td>EMERGENCY</td>\n",
       "      <td>31.826389</td>\n",
       "      <td>0</td>\n",
       "      <td>1.980556</td>\n",
       "    </tr>\n",
       "    <tr>\n",
       "      <th>9218</th>\n",
       "      <td>9219</td>\n",
       "      <td>7535</td>\n",
       "      <td>151208</td>\n",
       "      <td>2177-01-28 01:55:00</td>\n",
       "      <td>2177-01-30 21:47:00</td>\n",
       "      <td>NaT</td>\n",
       "      <td>EMERGENCY</td>\n",
       "      <td>EMERGENCY ROOM ADMIT</td>\n",
       "      <td>HOME</td>\n",
       "      <td>Private</td>\n",
       "      <td>...</td>\n",
       "      <td>2177-01-27 22:08:00</td>\n",
       "      <td>2177-01-28 02:45:00</td>\n",
       "      <td>T8 FRACTURE WITH CORD COMPRESSION</td>\n",
       "      <td>0</td>\n",
       "      <td>1</td>\n",
       "      <td>NaT</td>\n",
       "      <td>NaN</td>\n",
       "      <td>NaN</td>\n",
       "      <td>0</td>\n",
       "      <td>2.827778</td>\n",
       "    </tr>\n",
       "    <tr>\n",
       "      <th>42394</th>\n",
       "      <td>42395</td>\n",
       "      <td>48253</td>\n",
       "      <td>196415</td>\n",
       "      <td>2169-09-08 22:44:00</td>\n",
       "      <td>2169-09-15 14:30:00</td>\n",
       "      <td>NaT</td>\n",
       "      <td>EMERGENCY</td>\n",
       "      <td>CLINIC REFERRAL/PREMATURE</td>\n",
       "      <td>SNF</td>\n",
       "      <td>Medicare</td>\n",
       "      <td>...</td>\n",
       "      <td>2169-09-08 16:18:00</td>\n",
       "      <td>2169-09-08 23:46:00</td>\n",
       "      <td>C-SPINE FRACTURES</td>\n",
       "      <td>0</td>\n",
       "      <td>1</td>\n",
       "      <td>NaT</td>\n",
       "      <td>NaN</td>\n",
       "      <td>NaN</td>\n",
       "      <td>0</td>\n",
       "      <td>6.656944</td>\n",
       "    </tr>\n",
       "  </tbody>\n",
       "</table>\n",
       "<p>4 rows × 24 columns</p>\n",
       "</div>"
      ],
      "text/plain": [
       "       ROW_ID  SUBJECT_ID  HADM_ID           ADMITTIME           DISCHTIME  \\\n",
       "50052   50053       71921   156938 2179-03-12 07:15:00 2179-03-16 12:36:00   \n",
       "16381   16382       13355   140880 2159-05-08 16:38:00 2159-05-10 16:10:00   \n",
       "9218     9219        7535   151208 2177-01-28 01:55:00 2177-01-30 21:47:00   \n",
       "42394   42395       48253   196415 2169-09-08 22:44:00 2169-09-15 14:30:00   \n",
       "\n",
       "      DEATHTIME ADMISSION_TYPE         ADMISSION_LOCATION  \\\n",
       "50052       NaT       ELECTIVE  PHYS REFERRAL/NORMAL DELI   \n",
       "16381       NaT      EMERGENCY  CLINIC REFERRAL/PREMATURE   \n",
       "9218        NaT      EMERGENCY       EMERGENCY ROOM ADMIT   \n",
       "42394       NaT      EMERGENCY  CLINIC REFERRAL/PREMATURE   \n",
       "\n",
       "              DISCHARGE_LOCATION INSURANCE  ...            EDREGTIME  \\\n",
       "50052                        SNF  Medicare  ...                  NaN   \n",
       "16381  HOME WITH HOME IV PROVIDR   Private  ...                  NaN   \n",
       "9218                        HOME   Private  ...  2177-01-27 22:08:00   \n",
       "42394                        SNF  Medicare  ...  2169-09-08 16:18:00   \n",
       "\n",
       "                 EDOUTTIME                               DIAGNOSIS  \\\n",
       "50052                  NaN                      RIGHT HIP PAIN/SDA   \n",
       "16381                  NaN  SHORT GUT SYNDROME\\ TUNNELLED CATHETER   \n",
       "9218   2177-01-28 02:45:00       T8 FRACTURE WITH CORD COMPRESSION   \n",
       "42394  2169-09-08 23:46:00                       C-SPINE FRACTURES   \n",
       "\n",
       "      HOSPITAL_EXPIRE_FLAG HAS_CHARTEVENTS_DATA      NEXT_ADMITTIME  \\\n",
       "50052                    0                    0                 NaT   \n",
       "16381                    0                    1 2159-06-11 12:00:00   \n",
       "9218                     0                    1                 NaT   \n",
       "42394                    0                    1                 NaT   \n",
       "\n",
       "      NEXT_ADMISSION_TYPE  DAYS_NEXT_ADMIT  OUTPUT_LABEL  DURATION  \n",
       "50052                 NaN              NaN             0  4.222917  \n",
       "16381           EMERGENCY        31.826389             0  1.980556  \n",
       "9218                  NaN              NaN             0  2.827778  \n",
       "42394                 NaN              NaN             0  6.656944  \n",
       "\n",
       "[4 rows x 24 columns]"
      ]
     },
     "execution_count": 7,
     "metadata": {},
     "output_type": "execute_result"
    }
   ],
   "source": [
    "# sample of values\n",
    "df_adm.sample(4)"
   ]
  },
  {
   "cell_type": "code",
   "execution_count": 8,
   "metadata": {},
   "outputs": [
    {
     "name": "stderr",
     "output_type": "stream",
     "text": [
      "/anaconda/envs/py35/lib/python3.5/site-packages/IPython/core/interactiveshell.py:2785: DtypeWarning: Columns (4,5) have mixed types. Specify dtype option on import or set low_memory=False.\n",
      "  interactivity=interactivity, compiler=compiler, result=result)\n"
     ]
    }
   ],
   "source": [
    "# Load doctor/nurse notes\n",
    "df_notes = pd.read_csv('../mimic/NOTEEVENTS.csv')"
   ]
  },
  {
   "cell_type": "code",
   "execution_count": 9,
   "metadata": {},
   "outputs": [],
   "source": [
    "# Merge notes with admissions information\n",
    "df_notes = df_notes.sort_values(by=['SUBJECT_ID','HADM_ID','CHARTDATE'])\n",
    "df_adm_notes = pd.merge(df_adm[['SUBJECT_ID','HADM_ID','ADMITTIME','DISCHTIME','DAYS_NEXT_ADMIT','NEXT_ADMITTIME','ADMISSION_TYPE','DEATHTIME','OUTPUT_LABEL','DURATION']],\n",
    "                        df_notes[['SUBJECT_ID','HADM_ID','CHARTDATE','TEXT','CATEGORY']], \n",
    "                        on = ['SUBJECT_ID','HADM_ID'],\n",
    "                        how = 'left')"
   ]
  },
  {
   "cell_type": "code",
   "execution_count": 10,
   "metadata": {},
   "outputs": [],
   "source": [
    "# Admit time format is something like \"2126-10-24 18:42:00\". We don't need the exact time.\n",
    "# Here, we keep only the first part, and format it to our liking\n",
    "df_adm_notes['ADMITTIME_C'] = df_adm_notes.ADMITTIME.apply(lambda x: str(x).split(' ')[0])\n",
    "df_adm_notes['ADMITTIME_C'] = pd.to_datetime(df_adm_notes.ADMITTIME_C, format = '%Y-%m-%d', errors = 'coerce')\n",
    "# Also format chart date\n",
    "# df_adm_notes['CHARTDATE'] = pd.to_datetime(df_adm_notes.CHARTDATE, format = '%Y-%m-%d', errors = 'coerce')"
   ]
  },
  {
   "cell_type": "code",
   "execution_count": 11,
   "metadata": {},
   "outputs": [
    {
     "data": {
      "text/html": [
       "<div>\n",
       "<style scoped>\n",
       "    .dataframe tbody tr th:only-of-type {\n",
       "        vertical-align: middle;\n",
       "    }\n",
       "\n",
       "    .dataframe tbody tr th {\n",
       "        vertical-align: top;\n",
       "    }\n",
       "\n",
       "    .dataframe thead th {\n",
       "        text-align: right;\n",
       "    }\n",
       "</style>\n",
       "<table border=\"1\" class=\"dataframe\">\n",
       "  <thead>\n",
       "    <tr style=\"text-align: right;\">\n",
       "      <th></th>\n",
       "      <th>SUBJECT_ID</th>\n",
       "      <th>HADM_ID</th>\n",
       "      <th>ADMITTIME</th>\n",
       "      <th>DISCHTIME</th>\n",
       "      <th>DAYS_NEXT_ADMIT</th>\n",
       "      <th>NEXT_ADMITTIME</th>\n",
       "      <th>ADMISSION_TYPE</th>\n",
       "      <th>DEATHTIME</th>\n",
       "      <th>OUTPUT_LABEL</th>\n",
       "      <th>DURATION</th>\n",
       "      <th>CHARTDATE</th>\n",
       "      <th>TEXT</th>\n",
       "      <th>CATEGORY</th>\n",
       "      <th>ADMITTIME_C</th>\n",
       "    </tr>\n",
       "  </thead>\n",
       "  <tbody>\n",
       "    <tr>\n",
       "      <th>289899</th>\n",
       "      <td>13218</td>\n",
       "      <td>177218</td>\n",
       "      <td>2200-10-12 15:09:00</td>\n",
       "      <td>2200-11-17 14:17:00</td>\n",
       "      <td>NaN</td>\n",
       "      <td>NaT</td>\n",
       "      <td>EMERGENCY</td>\n",
       "      <td>NaT</td>\n",
       "      <td>0</td>\n",
       "      <td>35.963889</td>\n",
       "      <td>2200-10-28</td>\n",
       "      <td>Resp Note: Pt received on ordered vent setting...</td>\n",
       "      <td>Nursing/other</td>\n",
       "      <td>2200-10-12</td>\n",
       "    </tr>\n",
       "    <tr>\n",
       "      <th>497238</th>\n",
       "      <td>22961</td>\n",
       "      <td>157937</td>\n",
       "      <td>2146-12-26 21:10:00</td>\n",
       "      <td>2147-01-24 13:20:00</td>\n",
       "      <td>NaN</td>\n",
       "      <td>NaT</td>\n",
       "      <td>EMERGENCY</td>\n",
       "      <td>NaT</td>\n",
       "      <td>0</td>\n",
       "      <td>28.673611</td>\n",
       "      <td>2147-01-09</td>\n",
       "      <td>cv:hr 76-87 vpaced no ectopy.sbp 108-131/45-52...</td>\n",
       "      <td>Nursing/other</td>\n",
       "      <td>2146-12-26</td>\n",
       "    </tr>\n",
       "    <tr>\n",
       "      <th>200266</th>\n",
       "      <td>9021</td>\n",
       "      <td>178275</td>\n",
       "      <td>2167-07-27 18:53:00</td>\n",
       "      <td>2167-09-09 14:35:00</td>\n",
       "      <td>NaN</td>\n",
       "      <td>NaT</td>\n",
       "      <td>EMERGENCY</td>\n",
       "      <td>NaT</td>\n",
       "      <td>0</td>\n",
       "      <td>43.820833</td>\n",
       "      <td>2167-08-14</td>\n",
       "      <td>[**2167-8-14**] 5:37 AM\\n CHEST (PORTABLE AP) ...</td>\n",
       "      <td>Radiology</td>\n",
       "      <td>2167-07-27</td>\n",
       "    </tr>\n",
       "    <tr>\n",
       "      <th>917144</th>\n",
       "      <td>62914</td>\n",
       "      <td>122104</td>\n",
       "      <td>2113-03-07 10:30:00</td>\n",
       "      <td>2113-03-31 14:49:00</td>\n",
       "      <td>NaN</td>\n",
       "      <td>NaT</td>\n",
       "      <td>ELECTIVE</td>\n",
       "      <td>NaT</td>\n",
       "      <td>0</td>\n",
       "      <td>24.179861</td>\n",
       "      <td>2113-03-11</td>\n",
       "      <td>Demographics\\n   Day of intubation: [**2113-3-...</td>\n",
       "      <td>Respiratory</td>\n",
       "      <td>2113-03-07</td>\n",
       "    </tr>\n",
       "  </tbody>\n",
       "</table>\n",
       "</div>"
      ],
      "text/plain": [
       "        SUBJECT_ID  HADM_ID           ADMITTIME           DISCHTIME  \\\n",
       "289899       13218   177218 2200-10-12 15:09:00 2200-11-17 14:17:00   \n",
       "497238       22961   157937 2146-12-26 21:10:00 2147-01-24 13:20:00   \n",
       "200266        9021   178275 2167-07-27 18:53:00 2167-09-09 14:35:00   \n",
       "917144       62914   122104 2113-03-07 10:30:00 2113-03-31 14:49:00   \n",
       "\n",
       "        DAYS_NEXT_ADMIT NEXT_ADMITTIME ADMISSION_TYPE DEATHTIME  OUTPUT_LABEL  \\\n",
       "289899              NaN            NaT      EMERGENCY       NaT             0   \n",
       "497238              NaN            NaT      EMERGENCY       NaT             0   \n",
       "200266              NaN            NaT      EMERGENCY       NaT             0   \n",
       "917144              NaN            NaT       ELECTIVE       NaT             0   \n",
       "\n",
       "         DURATION   CHARTDATE  \\\n",
       "289899  35.963889  2200-10-28   \n",
       "497238  28.673611  2147-01-09   \n",
       "200266  43.820833  2167-08-14   \n",
       "917144  24.179861  2113-03-11   \n",
       "\n",
       "                                                     TEXT       CATEGORY  \\\n",
       "289899  Resp Note: Pt received on ordered vent setting...  Nursing/other   \n",
       "497238  cv:hr 76-87 vpaced no ectopy.sbp 108-131/45-52...  Nursing/other   \n",
       "200266  [**2167-8-14**] 5:37 AM\\n CHEST (PORTABLE AP) ...      Radiology   \n",
       "917144  Demographics\\n   Day of intubation: [**2113-3-...   Respiratory    \n",
       "\n",
       "       ADMITTIME_C  \n",
       "289899  2200-10-12  \n",
       "497238  2146-12-26  \n",
       "200266  2167-07-27  \n",
       "917144  2113-03-07  "
      ]
     },
     "execution_count": 11,
     "metadata": {},
     "output_type": "execute_result"
    }
   ],
   "source": [
    "df_adm_notes.sample(4)"
   ]
  },
  {
   "cell_type": "code",
   "execution_count": 12,
   "metadata": {},
   "outputs": [
    {
     "name": "stdout",
     "output_type": "stream",
     "text": [
      "Distribution of notes per patient\n",
      "Mean: 26.529335186778756\n",
      "Median: 14.0\n",
      "Std dev: 42.88011759253797\n"
     ]
    }
   ],
   "source": [
    "# Distribution of notes per patient stay\n",
    "print('Distribution of notes per patient')\n",
    "print('Mean:', df_adm_notes.groupby(['SUBJECT_ID', 'HADM_ID']).size().mean())\n",
    "print('Median:', df_adm_notes.groupby(['SUBJECT_ID', 'HADM_ID']).size().median())\n",
    "print('Std dev:', df_adm_notes.groupby(['SUBJECT_ID', 'HADM_ID']).size().std())"
   ]
  },
  {
   "cell_type": "code",
   "execution_count": 13,
   "metadata": {},
   "outputs": [
    {
     "data": {
      "text/plain": [
       "CATEGORY\n",
       "Case Management         825\n",
       "Consult                  68\n",
       "Discharge summary     50072\n",
       "ECG                  119904\n",
       "Echo                  28458\n",
       "General                5938\n",
       "Nursing              185878\n",
       "Nursing/other        348592\n",
       "Nutrition              7419\n",
       "Pharmacy                 84\n",
       "Physician            115640\n",
       "Radiology            307945\n",
       "Rehab Services         4926\n",
       "Respiratory           24432\n",
       "Social Work            1969\n",
       "dtype: int64"
      ]
     },
     "execution_count": 13,
     "metadata": {},
     "output_type": "execute_result"
    }
   ],
   "source": [
    "# Number of notes per type\n",
    "# We see that ther are 50k discharge summaries, and many many more other note types\n",
    "df_adm_notes.groupby('CATEGORY').size()"
   ]
  },
  {
   "cell_type": "code",
   "execution_count": 14,
   "metadata": {},
   "outputs": [
    {
     "data": {
      "text/plain": [
       "1.141112123974476"
      ]
     },
     "execution_count": 14,
     "metadata": {},
     "output_type": "execute_result"
    }
   ],
   "source": [
    "# Calcualte average number of discharge summaries per patient stay. These are mostly repeats\n",
    "df_adm_notes.loc[df_adm_notes.CATEGORY=='Discharge summary'].groupby(['SUBJECT_ID', 'HADM_ID']).size().mean()"
   ]
  },
  {
   "cell_type": "code",
   "execution_count": 15,
   "metadata": {},
   "outputs": [],
   "source": [
    "# If Discharge Summary \n",
    "df_discharge = df_adm_notes[df_adm_notes['CATEGORY'] == 'Discharge summary']\n",
    "# multiple discharge summary for one admission -> after examination -> replicated summary -> replace with the last one \n",
    "df_discharge = (df_discharge.groupby(['SUBJECT_ID','HADM_ID']).nth(-1)).reset_index()\n",
    "df_discharge = df_discharge[df_discharge['TEXT'].notnull()]"
   ]
  },
  {
   "cell_type": "code",
   "execution_count": 16,
   "metadata": {},
   "outputs": [],
   "source": [
    "# If not discharge summary\n",
    "df_not_discharge_note = df_adm_notes[df_adm_notes['CATEGORY'] != 'Discharge summary']\n",
    "df_not_discharge_note = df_not_discharge_note[df_not_discharge_note['TEXT'].notnull()]"
   ]
  },
  {
   "cell_type": "code",
   "execution_count": 17,
   "metadata": {},
   "outputs": [
    {
     "name": "stdout",
     "output_type": "stream",
     "text": [
      "Mean:  25.695951823352292\n",
      "Median:  13.0\n",
      "Std Dev:  42.973249935310164\n"
     ]
    }
   ],
   "source": [
    "# Count number of extra notes per stay we have\n",
    "# For discharge notes, we have exactly 1 per stay\n",
    "print('Mean: ', df_not_discharge_note.groupby(['SUBJECT_ID', 'HADM_ID']).size().mean())\n",
    "print('Median: ', df_not_discharge_note.groupby(['SUBJECT_ID', 'HADM_ID']).size().median())\n",
    "print('Std Dev: ', df_not_discharge_note.groupby(['SUBJECT_ID', 'HADM_ID']).size().std())"
   ]
  },
  {
   "cell_type": "code",
   "execution_count": 18,
   "metadata": {},
   "outputs": [
    {
     "data": {
      "text/plain": [
       "<matplotlib.axes._subplots.AxesSubplot at 0x7f9e097c8ac8>"
      ]
     },
     "execution_count": 18,
     "metadata": {},
     "output_type": "execute_result"
    },
    {
     "data": {
      "image/png": "[encoded data removed]",
      "text/plain": [
       "<Figure size 1728x720 with 1 Axes>"
      ]
     },
     "metadata": {
      "needs_background": "light"
     },
     "output_type": "display_data"
    }
   ],
   "source": [
    "plt.rcParams.update({'font.size': 22})\n",
    "df_not_discharge_note.groupby(['SUBJECT_ID', 'HADM_ID']).size().hist(\n",
    "    bins=50, range=(0,50), figsize=(24,10), rwidth=0.9, grid=True\n",
    ")#, color='#86bf91')"
   ]
  },
  {
   "cell_type": "code",
   "execution_count": 19,
   "metadata": {},
   "outputs": [],
   "source": [
    "df_all_note = pd.concat([df_discharge, df_not_discharge_note])\n",
    "df_all_note = df_all_note.sort_values('CHARTDATE')"
   ]
  },
  {
   "cell_type": "code",
   "execution_count": 20,
   "metadata": {},
   "outputs": [],
   "source": [
    "# concatenate all notes together to one big boi\n",
    "df_concat = pd.DataFrame(df_all_note.groupby('HADM_ID')['TEXT'].apply(lambda x: \"%s\" % ' '.join(x))).reset_index()\n",
    "df_concat['OUTPUT_LABEL'] = df_concat['HADM_ID'].apply(lambda x: df_all_note[df_all_note['HADM_ID']==x].OUTPUT_LABEL.values[0])"
   ]
  },
  {
   "cell_type": "code",
   "execution_count": 21,
   "metadata": {},
   "outputs": [],
   "source": [
    "# Concatenate all notes together to one big boi\n",
    "# Separated by magic separator ' \"&-o.o-&\" '\n",
    "# groupby preserves order, so discharge note will be at end hopefully\n",
    "df_concat_char = pd.DataFrame(df_all_note.groupby('HADM_ID')['TEXT'].apply(lambda x: \"%s\" % ' \"&-o.o-&\" '.join(x))).reset_index()\n",
    "df_concat_char['OUTPUT_LABEL'] = df_concat_char['HADM_ID'].apply(lambda x: df_all_note[df_all_note['HADM_ID']==x].OUTPUT_LABEL.values[0])"
   ]
  },
  {
   "cell_type": "code",
   "execution_count": 22,
   "metadata": {},
   "outputs": [],
   "source": [
    "# df_concat_ord = pd.DataFrame(df_all_note.groupby('HADM_ID').apply(\n",
    "#     lambda x: x['TEXT'].apply(\n",
    "#         lambda y : \"%s\" % ' \"&-o.o-&\" '.join(\n",
    "#         x.sort_values('CHARTDATE')['TEXT'])))).reset_index()\n",
    "# df_concat_ord['OUTPUT_LABEL'] = df_concat_ord['HADM_ID'].apply(lambda x: df_all_note[df_all_note['HADM_ID']==x].OUTPUT_LABEL.values[0])\n",
    "\n"
   ]
  },
  {
   "cell_type": "code",
   "execution_count": 23,
   "metadata": {},
   "outputs": [],
   "source": [
    "import re\n",
    "from tqdm import tqdm"
   ]
  },
  {
   "cell_type": "code",
   "execution_count": 24,
   "metadata": {},
   "outputs": [],
   "source": [
    "# string preprocessing script, clean up text\n",
    "def preprocess1(x):\n",
    "    y=re.sub('\\\\[(.*?)\\\\]','',x) #remove de-identified brackets\n",
    "    y=re.sub('[0-9]+\\.','',y) #remove 1.2. since the segmenter segments based on this\n",
    "    y=re.sub('dr\\.','doctor',y)\n",
    "    y=re.sub('m\\.d\\.','md',y)\n",
    "    y=re.sub('admission date:','',y)\n",
    "    y=re.sub('discharge date:','',y)\n",
    "    y=re.sub('--|__|==','',y)\n",
    "    return y"
   ]
  },
  {
   "cell_type": "code",
   "execution_count": 25,
   "metadata": {},
   "outputs": [],
   "source": [
    "def preprocessing(df_less_n): \n",
    "    # text processing\n",
    "    df_less_n['TEXT']=df_less_n['TEXT'].fillna(' ')\n",
    "    df_less_n['TEXT']=df_less_n['TEXT'].str.replace('\\n',' ')\n",
    "    df_less_n['TEXT']=df_less_n['TEXT'].str.replace('\\r',' ')\n",
    "    df_less_n['TEXT']=df_less_n['TEXT'].apply(str.strip)\n",
    "    df_less_n['TEXT']=df_less_n['TEXT'].str.lower()\n",
    "\n",
    "    df_less_n['TEXT']=df_less_n['TEXT'].apply(lambda x: preprocess1(x))\n",
    "    return df_less_n\n",
    "\n",
    "# turn into many many chunks of size 318\n",
    "# if one_chunk=True, takes only one chunk per note\n",
    "def chunk_up(df_less_n, one_chunk=False):\n",
    "    #to get 318 words chunks for readmission tasks\n",
    "    df_len = len(df_less_n)\n",
    "    want=pd.DataFrame({'ID':[],'TEXT':[],'Label':[]})\n",
    "    for i in tqdm(range(df_len)):\n",
    "        x=df_less_n.TEXT.iloc[i].split()\n",
    "        \n",
    "        n=int(len(x)/318)\n",
    "        if one_chunk:\n",
    "            n = 1\n",
    "        \n",
    "        for j in range(n):\n",
    "            want=want.append({'TEXT':' '.join(x[j*318:(j+1)*318]),'Label':df_less_n.OUTPUT_LABEL.iloc[i],'HADM_ID':df_less_n.HADM_ID.iloc[i], 'ID':i},ignore_index=True)\n",
    "        if len(x)%318>10:\n",
    "            want=want.append({'TEXT':' '.join(x[-(len(x)%318):]),'Label':df_less_n.OUTPUT_LABEL.iloc[i],'HADM_ID':df_less_n.HADM_ID.iloc[i], 'ID':i},ignore_index=True)\n",
    "    \n",
    "    return want"
   ]
  },
  {
   "cell_type": "code",
   "execution_count": 26,
   "metadata": {},
   "outputs": [],
   "source": [
    "df_processed = preprocessing(df_concat_char)"
   ]
  },
  {
   "cell_type": "code",
   "execution_count": 27,
   "metadata": {},
   "outputs": [],
   "source": [
    "### An example to get the train/test/split with random state:\n",
    "### note that we divide on patient admission level and share among experiments, instead of notes level. \n",
    "### This way, since our methods run on the same set of admissions, we can see the\n",
    "### progression of readmission scores. \n",
    "\n",
    "readmit_ID = df_adm[df_adm.OUTPUT_LABEL == 1].HADM_ID\n",
    "not_readmit_ID = df_adm[df_adm.OUTPUT_LABEL == 0].HADM_ID\n",
    "#subsampling to get the balanced pos/neg numbers of patients for each dataset\n",
    "not_readmit_ID_use = not_readmit_ID.sample(n=len(readmit_ID), random_state=1)\n",
    "id_val_test_t=readmit_ID.sample(frac=0.2,random_state=1)\n",
    "id_val_test_f=not_readmit_ID_use.sample(frac=0.2,random_state=1)\n",
    "\n",
    "id_train_t = readmit_ID.drop(id_val_test_t.index)\n",
    "id_train_f = not_readmit_ID_use.drop(id_val_test_f.index)\n",
    "\n",
    "id_val_t=id_val_test_t.sample(frac=0.5,random_state=1)\n",
    "id_test_t=id_val_test_t.drop(id_val_t.index)\n",
    "\n",
    "id_val_f=id_val_test_f.sample(frac=0.5,random_state=1)\n",
    "id_test_f=id_val_test_f.drop(id_val_f.index)"
   ]
  },
  {
   "cell_type": "code",
   "execution_count": 28,
   "metadata": {},
   "outputs": [
    {
     "data": {
      "text/plain": [
       "array([], dtype=int64)"
      ]
     },
     "execution_count": 28,
     "metadata": {},
     "output_type": "execute_result"
    }
   ],
   "source": [
    "# test if there is overlap between train and test, should return \"array([], dtype=int64)\"\n",
    "(pd.Index(id_test_t).intersection(pd.Index(id_train_t))).values"
   ]
  },
  {
   "cell_type": "code",
   "execution_count": 29,
   "metadata": {},
   "outputs": [],
   "source": [
    "id_test = pd.concat([id_test_t, id_test_f])\n",
    "test_id_label = pd.DataFrame(data = list(zip(id_test, [1]*len(id_test_t)+[0]*len(id_test_f))), columns = ['id','label'])\n",
    "\n",
    "id_val = pd.concat([id_val_t, id_val_f])\n",
    "val_id_label = pd.DataFrame(data = list(zip(id_val, [1]*len(id_val_t)+[0]*len(id_val_f))), columns = ['id','label'])\n",
    "\n",
    "id_train = pd.concat([id_train_t, id_train_f])\n",
    "train_id_label = pd.DataFrame(data = list(zip(id_train, [1]*len(id_train_t)+[0]*len(id_train_f))), columns = ['id','label'])\n"
   ]
  },
  {
   "cell_type": "code",
   "execution_count": 30,
   "metadata": {},
   "outputs": [],
   "source": [
    "#get discharge train/val/test\n",
    "\n",
    "discharge_train = df_processed[df_processed.HADM_ID.isin(train_id_label.id)]\n",
    "discharge_val = df_processed[df_processed.HADM_ID.isin(val_id_label.id)]\n",
    "discharge_test = df_processed[df_processed.HADM_ID.isin(test_id_label.id)]"
   ]
  },
  {
   "cell_type": "code",
   "execution_count": 31,
   "metadata": {},
   "outputs": [
    {
     "name": "stdout",
     "output_type": "stream",
     "text": [
      "Train: 4734\n",
      "Val: 591\n",
      "Test: 593\n",
      "0.5002112378538234\n",
      "0.5008460236886633\n",
      "0.4991568296795953\n"
     ]
    }
   ],
   "source": [
    "# Train, val, test set size:\n",
    "# Note these are smaller since we undersample negative examples\n",
    "print('Train:', len(discharge_train))\n",
    "print('Val:', len(discharge_val))\n",
    "print('Test:', len(discharge_test))\n",
    "\n",
    "# Percentage of pos/neg examples:\n",
    "print(discharge_train.OUTPUT_LABEL.mean())\n",
    "print(discharge_val.OUTPUT_LABEL.mean())\n",
    "print(discharge_test.OUTPUT_LABEL.mean())"
   ]
  },
  {
   "cell_type": "code",
   "execution_count": 32,
   "metadata": {},
   "outputs": [],
   "source": [
    "discharge_train.to_csv('./data/all_notes_ordered/train.csv')\n",
    "discharge_val.to_csv('./data/all_notes_ordered/val.csv')\n",
    "discharge_test.to_csv('./data/all_notes_ordered/test.csv')"
   ]
  },
  {
   "cell_type": "code",
   "execution_count": 33,
   "metadata": {},
   "outputs": [
    {
     "data": {
      "text/html": [
       "<div>\n",
       "<style scoped>\n",
       "    .dataframe tbody tr th:only-of-type {\n",
       "        vertical-align: middle;\n",
       "    }\n",
       "\n",
       "    .dataframe tbody tr th {\n",
       "        vertical-align: top;\n",
       "    }\n",
       "\n",
       "    .dataframe thead th {\n",
       "        text-align: right;\n",
       "    }\n",
       "</style>\n",
       "<table border=\"1\" class=\"dataframe\">\n",
       "  <thead>\n",
       "    <tr style=\"text-align: right;\">\n",
       "      <th></th>\n",
       "      <th>HADM_ID</th>\n",
       "      <th>TEXT</th>\n",
       "      <th>OUTPUT_LABEL</th>\n",
       "    </tr>\n",
       "  </thead>\n",
       "  <tbody>\n",
       "    <tr>\n",
       "      <th>10741</th>\n",
       "      <td>123730</td>\n",
       "      <td>atrial fibrillation with rapid ventricular res...</td>\n",
       "      <td>0</td>\n",
       "    </tr>\n",
       "  </tbody>\n",
       "</table>\n",
       "</div>"
      ],
      "text/plain": [
       "       HADM_ID                                               TEXT  \\\n",
       "10741   123730  atrial fibrillation with rapid ventricular res...   \n",
       "\n",
       "       OUTPUT_LABEL  \n",
       "10741             0  "
      ]
     },
     "execution_count": 33,
     "metadata": {},
     "output_type": "execute_result"
    }
   ],
   "source": [
    "discharge_train.sample(1)"
   ]
  },
  {
   "cell_type": "code",
   "execution_count": null,
   "metadata": {},
   "outputs": [],
   "source": []
  }
 ],
 "metadata": {
  "kernelspec": {
   "display_name": "Python 3.5",
   "language": "python",
   "name": "python3"
  },
  "language_info": {
   "codemirror_mode": {
    "name": "ipython",
    "version": 3
   },
   "file_extension": ".py",
   "mimetype": "text/x-python",
   "name": "python",
   "nbconvert_exporter": "python",
   "pygments_lexer": "ipython3",
   "version": "3.5.6"
  }
 },
 "nbformat": 4,
 "nbformat_minor": 2
}
