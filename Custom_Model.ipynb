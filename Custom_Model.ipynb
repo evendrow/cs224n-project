{
 "cells": [
  {
   "cell_type": "code",
   "execution_count": 306,
   "metadata": {},
   "outputs": [],
   "source": [
    "import pandas as pd\n",
    "import numpy as np\n",
    "import matplotlib.pyplot as plt\n",
    "\n",
    "import torch\n",
    "from torch.utils.data import TensorDataset, DataLoader, RandomSampler, SequentialSampler\n",
    "from torch.utils.data.distributed import DistributedSampler\n",
    "from torch import nn\n",
    "\n",
    "from sklearn.metrics import roc_auc_score, roc_curve, auc\n",
    "import matplotlib.pyplot as plt"
   ]
  },
  {
   "cell_type": "code",
   "execution_count": 65,
   "metadata": {},
   "outputs": [],
   "source": [
    "x_train = np.load('processed_notes.npy', allow_pickle=True)\n",
    "y_train = np.load('processed_notes_labels.npy', allow_pickle=True)\n",
    "\n",
    "x_val = np.load('processed_notes_val.npy', allow_pickle=True)\n",
    "y_val = np.load('processed_notes_labels_val.npy', allow_pickle=True)\n",
    "\n",
    "x_test = np.load('processed_notes_test.npy', allow_pickle=True)\n",
    "y_test = np.load('processed_notes_labels_test.npy', allow_pickle=True)\n",
    "\n"
   ]
  },
  {
   "cell_type": "code",
   "execution_count": 5,
   "metadata": {},
   "outputs": [
    {
     "data": {
      "text/plain": [
       "768"
      ]
     },
     "execution_count": 5,
     "metadata": {},
     "output_type": "execute_result"
    }
   ],
   "source": [
    "len(x_train[0][0])"
   ]
  },
  {
   "cell_type": "code",
   "execution_count": 35,
   "metadata": {},
   "outputs": [],
   "source": [
    "# notes is a list of list of embeddings corresponding to all notes for a batch of patients\n",
    "# embed_size is the size of a note embedding for a single note. This is 768\n",
    "# seq_len is the length we pad each note list to\n",
    "# we want the final input size to be \n",
    "#   (batch_size, seq_len, embed_size)\n",
    "def pad_input(notes, embed_size, seq_len=None):\n",
    "    \n",
    "    # if max sequence length not specified, use largest from data\n",
    "    if seq_len == None:\n",
    "        seq_len = max([len(x) for x in notes])\n",
    "    \n",
    "    # array starts out all zeros of the desired size\n",
    "    padded = np.zeros((len(notes), seq_len, embed_size),dtype=float)\n",
    "    # go through each note list\n",
    "    for ii, review in enumerate(notes):\n",
    "        # set the last n elements of padded to the note contents\n",
    "        # thus each example will be zero vectors followed by note vectors\n",
    "        padded[ii, -len(review):] = np.array(review)[:seq_len]\n",
    "    return padded"
   ]
  },
  {
   "cell_type": "code",
   "execution_count": 36,
   "metadata": {},
   "outputs": [],
   "source": [
    "example = x_train[0:50]"
   ]
  },
  {
   "cell_type": "code",
   "execution_count": 37,
   "metadata": {},
   "outputs": [
    {
     "data": {
      "text/plain": [
       "12"
      ]
     },
     "execution_count": 37,
     "metadata": {},
     "output_type": "execute_result"
    }
   ],
   "source": [
    "len(example[1])"
   ]
  },
  {
   "cell_type": "code",
   "execution_count": 40,
   "metadata": {},
   "outputs": [],
   "source": [
    "p = pad_input(example, 768)"
   ]
  },
  {
   "cell_type": "code",
   "execution_count": 43,
   "metadata": {},
   "outputs": [
    {
     "data": {
      "text/plain": [
       "(50, 31, 768)"
      ]
     },
     "execution_count": 43,
     "metadata": {},
     "output_type": "execute_result"
    }
   ],
   "source": [
    "p.shape"
   ]
  },
  {
   "cell_type": "code",
   "execution_count": 42,
   "metadata": {},
   "outputs": [
    {
     "data": {
      "text/plain": [
       "array([[ 0.        ,  0.        ,  0.        , ...,  0.        ,\n",
       "         0.        ,  0.        ],\n",
       "       [ 0.        ,  0.        ,  0.        , ...,  0.        ,\n",
       "         0.        ,  0.        ],\n",
       "       [ 0.        ,  0.        ,  0.        , ...,  0.        ,\n",
       "         0.        ,  0.        ],\n",
       "       ...,\n",
       "       [ 0.        ,  0.        ,  0.        , ...,  0.        ,\n",
       "         0.        ,  0.        ],\n",
       "       [-0.06971163, -0.01834027,  0.04681869, ...,  0.07655878,\n",
       "        -0.28286561, -0.06126034],\n",
       "       [-0.18524054, -0.04784748,  0.20977354, ...,  0.21094246,\n",
       "        -0.26680702,  0.04184945]])"
      ]
     },
     "execution_count": 42,
     "metadata": {},
     "output_type": "execute_result"
    }
   ],
   "source": [
    "# the first example has only 2 notes. we see how it's padded with 0-lists\n",
    "# so that the actual notes are pushed to the end\n",
    "p[0]"
   ]
  },
  {
   "cell_type": "code",
   "execution_count": 66,
   "metadata": {},
   "outputs": [],
   "source": [
    "seq_len = 50  # The number of notes we consider (pad size)\n",
    "              # Very few patients ahve >50 notes, so this cutoff is fine\n",
    "    \n",
    "embed_size = 768 # because that's what it is\n",
    "\n",
    "x_train = pad_input(x_train, embed_size, seq_len)\n",
    "x_val = pad_input(x_val, embed_size, seq_len)\n",
    "x_test = pad_input(x_test, embed_size, seq_len)"
   ]
  },
  {
   "cell_type": "code",
   "execution_count": 211,
   "metadata": {},
   "outputs": [],
   "source": [
    "train_data = TensorDataset(torch.from_numpy(x_train), torch.from_numpy(y_train))\n",
    "val_data = TensorDataset(torch.from_numpy(x_val), torch.from_numpy(y_val))\n",
    "test_data = TensorDataset(torch.from_numpy(x_test), torch.from_numpy(y_test))\n",
    "\n",
    "batch_size = 64\n",
    "val_batch_size = 4\n",
    "\n",
    "train_loader = DataLoader(train_data, shuffle=True, batch_size=batch_size, drop_last=True)\n",
    "val_loader = DataLoader(val_data, shuffle=True, batch_size=val_batch_size, drop_last=True)\n",
    "test_loader = DataLoader(test_data, shuffle=True, batch_size=val_batch_size, drop_last=True)"
   ]
  },
  {
   "cell_type": "code",
   "execution_count": 123,
   "metadata": {},
   "outputs": [],
   "source": [
    "is_cuda = torch.cuda.is_available()\n",
    "if is_cuda:\n",
    "    device = torch.device(\"cuda\")\n",
    "else:\n",
    "    device = torch.device(\"cpu\")"
   ]
  },
  {
   "cell_type": "code",
   "execution_count": 124,
   "metadata": {},
   "outputs": [],
   "source": [
    "# Define model!\n",
    "# adapted from https://blog.floydhub.com/long-short-term-memory-from-zero-to-hero-with-pytorch/\n",
    "class AdmissionNet(nn.Module):\n",
    "    def __init__(self, embedding_dim, hidden_dim, n_layers, drop_prob=0.5):\n",
    "        super(AdmissionNet, self).__init__()\n",
    "        self.n_layers = n_layers\n",
    "        self.hidden_dim = hidden_dim\n",
    "        \n",
    "        self.lstm = nn.LSTM(embedding_dim, hidden_dim, n_layers, dropout=drop_prob, batch_first=True)\n",
    "        self.dropout = nn.Dropout(drop_prob)\n",
    "        self.fc = nn.Linear(hidden_dim, 1) # 1 is output size (binary)\n",
    "        self.sigmoid = nn.Sigmoid()\n",
    "        \n",
    "    def forward(self, x, hidden):\n",
    "        batch_size = x.size(0)\n",
    "#         x = x.long()\n",
    "        x = x.float()\n",
    "        lstm_out, hidden = self.lstm(x, hidden)\n",
    "#         print('lstm size:',lstm_out.size())\n",
    "        lstm_out = lstm_out.contiguous().view(-1, self.hidden_dim)\n",
    "#         print('lstm size:',lstm_out.size())\n",
    "        \n",
    "        out = self.dropout(lstm_out)\n",
    "        out = self.fc(out)\n",
    "        out = self.sigmoid(out)\n",
    "        \n",
    "#         print(out.size())\n",
    "        \n",
    "        out = out.view(batch_size, -1)\n",
    "        out = out[:,-1]\n",
    "#         print(out.size())\n",
    "        return out, hidden\n",
    "    \n",
    "    def init_hidden(self, batch_size):\n",
    "        weight = next(self.parameters()).data\n",
    "        hidden = (weight.new(self.n_layers, batch_size, self.hidden_dim).zero_().to(device),\n",
    "                      weight.new(self.n_layers, batch_size, self.hidden_dim).zero_().to(device))\n",
    "        return hidden"
   ]
  },
  {
   "cell_type": "code",
   "execution_count": 320,
   "metadata": {},
   "outputs": [
    {
     "name": "stderr",
     "output_type": "stream",
     "text": [
      "/anaconda/envs/py35/lib/python3.5/site-packages/torch/nn/modules/rnn.py:51: UserWarning: dropout option adds dropout after all but last recurrent layer, so non-zero dropout expects num_layers greater than 1, but got dropout=0.5 and num_layers=1\n",
      "  \"num_layers={}\".format(dropout, num_layers))\n"
     ]
    },
    {
     "data": {
      "text/plain": [
       "AdmissionNet(\n",
       "  (lstm): LSTM(768, 1024, batch_first=True, dropout=0.5)\n",
       "  (dropout): Dropout(p=0.5, inplace=False)\n",
       "  (fc): Linear(in_features=1024, out_features=1, bias=True)\n",
       "  (sigmoid): Sigmoid()\n",
       ")"
      ]
     },
     "execution_count": 320,
     "metadata": {},
     "output_type": "execute_result"
    }
   ],
   "source": [
    "embedding_dim = 768\n",
    "hidden_dim = 1024\n",
    "n_layers = 2\n",
    "\n",
    "model = AdmissionNet(embedding_dim, hidden_dim, n_layers)\n",
    "model.to(device)"
   ]
  },
  {
   "cell_type": "code",
   "execution_count": 321,
   "metadata": {},
   "outputs": [],
   "source": [
    "lr=0.0005\n",
    "criterion = nn.BCELoss()#nn.BCEWithLogitsLoss()#\n",
    "optimizer = torch.optim.Adam(model.parameters(), lr=lr)"
   ]
  },
  {
   "cell_type": "code",
   "execution_count": 322,
   "metadata": {},
   "outputs": [],
   "source": [
    "counter = 0\n",
    "print_every = 20\n",
    "clip = 2\n",
    "valid_loss_min = np.Inf"
   ]
  },
  {
   "cell_type": "code",
   "execution_count": 323,
   "metadata": {},
   "outputs": [
    {
     "name": "stdout",
     "output_type": "stream",
     "text": [
      "Epoch: 1/30... Step: 73... Loss: 0.608498... Val Loss: 0.609820 Val accuracy: 66.327%\n",
      "Validation loss decreased (inf --> 0.609820).  Saving model ...\n",
      "Epoch: 2/30... Step: 146... Loss: 0.677930... Val Loss: 0.610717 Val accuracy: 66.156%\n",
      "Epoch: 3/30... Step: 219... Loss: 0.570533... Val Loss: 0.618355 Val accuracy: 66.156%\n",
      "Epoch: 4/30... Step: 292... Loss: 0.578609... Val Loss: 0.621738 Val accuracy: 65.136%\n",
      "Epoch: 5/30... Step: 365... Loss: 0.647828... Val Loss: 0.613278 Val accuracy: 67.517%\n",
      "Epoch: 6/30... Step: 438... Loss: 0.601611... Val Loss: 0.606468 Val accuracy: 66.667%\n",
      "Validation loss decreased (0.609820 --> 0.606468).  Saving model ...\n",
      "Epoch: 7/30... Step: 511... Loss: 0.591681... Val Loss: 0.612763 Val accuracy: 66.667%\n",
      "Epoch: 8/30... Step: 584... Loss: 0.629688... Val Loss: 0.609258 Val accuracy: 66.837%\n",
      "Epoch: 9/30... Step: 657... Loss: 0.539520... Val Loss: 0.611554 Val accuracy: 68.367%\n",
      "Epoch: 10/30... Step: 730... Loss: 0.654445... Val Loss: 0.615224 Val accuracy: 67.177%\n",
      "Epoch: 11/30... Step: 803... Loss: 0.602410... Val Loss: 0.620279 Val accuracy: 65.476%\n",
      "Epoch: 12/30... Step: 876... Loss: 0.515558... Val Loss: 0.615628 Val accuracy: 66.837%\n",
      "Epoch: 13/30... Step: 949... Loss: 0.634164... Val Loss: 0.610557 Val accuracy: 66.497%\n",
      "Epoch: 14/30... Step: 1022... Loss: 0.563566... Val Loss: 0.613327 Val accuracy: 66.156%\n",
      "Epoch: 15/30... Step: 1095... Loss: 0.619393... Val Loss: 0.608656 Val accuracy: 67.007%\n",
      "Epoch: 16/30... Step: 1168... Loss: 0.564918... Val Loss: 0.611013 Val accuracy: 67.347%\n",
      "Epoch: 17/30... Step: 1241... Loss: 0.592760... Val Loss: 0.618118 Val accuracy: 67.177%\n",
      "Epoch: 18/30... Step: 1314... Loss: 0.588145... Val Loss: 0.609705 Val accuracy: 67.177%\n",
      "Epoch: 19/30... Step: 1387... Loss: 0.546510... Val Loss: 0.612067 Val accuracy: 67.687%\n",
      "Epoch: 20/30... Step: 1460... Loss: 0.488623... Val Loss: 0.609012 Val accuracy: 66.327%\n",
      "Epoch: 21/30... Step: 1533... Loss: 0.637941... Val Loss: 0.613509 Val accuracy: 67.007%\n",
      "Epoch: 22/30... Step: 1606... Loss: 0.657159... Val Loss: 0.611690 Val accuracy: 66.837%\n",
      "Epoch: 23/30... Step: 1679... Loss: 0.598815... Val Loss: 0.613122 Val accuracy: 65.476%\n",
      "Epoch: 24/30... Step: 1752... Loss: 0.633096... Val Loss: 0.620736 Val accuracy: 65.646%\n",
      "Epoch: 25/30... Step: 1825... Loss: 0.635040... Val Loss: 0.612738 Val accuracy: 67.517%\n",
      "Epoch: 26/30... Step: 1898... Loss: 0.633813... Val Loss: 0.619459 Val accuracy: 67.177%\n",
      "Epoch: 27/30... Step: 1971... Loss: 0.603719... Val Loss: 0.615494 Val accuracy: 65.816%\n"
     ]
    },
    {
     "ename": "KeyboardInterrupt",
     "evalue": "",
     "output_type": "error",
     "traceback": [
      "\u001b[0;31m---------------------------------------------------------------------------\u001b[0m",
      "\u001b[0;31mKeyboardInterrupt\u001b[0m                         Traceback (most recent call last)",
      "\u001b[0;32m<ipython-input-323-a0ea88347318>\u001b[0m in \u001b[0;36m<module>\u001b[0;34m()\u001b[0m\n\u001b[1;32m     12\u001b[0m         \u001b[0mmodel\u001b[0m\u001b[0;34m.\u001b[0m\u001b[0mzero_grad\u001b[0m\u001b[0;34m(\u001b[0m\u001b[0;34m)\u001b[0m\u001b[0;34m\u001b[0m\u001b[0m\n\u001b[1;32m     13\u001b[0m         \u001b[0moutput\u001b[0m\u001b[0;34m,\u001b[0m \u001b[0mh\u001b[0m \u001b[0;34m=\u001b[0m \u001b[0mmodel\u001b[0m\u001b[0;34m(\u001b[0m\u001b[0minputs\u001b[0m\u001b[0;34m,\u001b[0m \u001b[0mh\u001b[0m\u001b[0;34m)\u001b[0m\u001b[0;34m\u001b[0m\u001b[0m\n\u001b[0;32m---> 14\u001b[0;31m         \u001b[0mloss\u001b[0m \u001b[0;34m=\u001b[0m \u001b[0mcriterion\u001b[0m\u001b[0;34m(\u001b[0m\u001b[0moutput\u001b[0m\u001b[0;34m.\u001b[0m\u001b[0msqueeze\u001b[0m\u001b[0;34m(\u001b[0m\u001b[0;34m)\u001b[0m\u001b[0;34m,\u001b[0m \u001b[0mlabels\u001b[0m\u001b[0;34m.\u001b[0m\u001b[0mfloat\u001b[0m\u001b[0;34m(\u001b[0m\u001b[0;34m)\u001b[0m\u001b[0;34m)\u001b[0m\u001b[0;34m\u001b[0m\u001b[0m\n\u001b[0m\u001b[1;32m     15\u001b[0m         \u001b[0mloss\u001b[0m\u001b[0;34m.\u001b[0m\u001b[0mbackward\u001b[0m\u001b[0;34m(\u001b[0m\u001b[0;34m)\u001b[0m\u001b[0;34m\u001b[0m\u001b[0m\n\u001b[1;32m     16\u001b[0m         \u001b[0mnn\u001b[0m\u001b[0;34m.\u001b[0m\u001b[0mutils\u001b[0m\u001b[0;34m.\u001b[0m\u001b[0mclip_grad_norm_\u001b[0m\u001b[0;34m(\u001b[0m\u001b[0mmodel\u001b[0m\u001b[0;34m.\u001b[0m\u001b[0mparameters\u001b[0m\u001b[0;34m(\u001b[0m\u001b[0;34m)\u001b[0m\u001b[0;34m,\u001b[0m \u001b[0mclip\u001b[0m\u001b[0;34m)\u001b[0m\u001b[0;34m\u001b[0m\u001b[0m\n",
      "\u001b[0;32m/anaconda/envs/py35/lib/python3.5/site-packages/torch/nn/modules/module.py\u001b[0m in \u001b[0;36m__call__\u001b[0;34m(self, *input, **kwargs)\u001b[0m\n\u001b[1;32m    545\u001b[0m             \u001b[0mresult\u001b[0m \u001b[0;34m=\u001b[0m \u001b[0mself\u001b[0m\u001b[0;34m.\u001b[0m\u001b[0m_slow_forward\u001b[0m\u001b[0;34m(\u001b[0m\u001b[0;34m*\u001b[0m\u001b[0minput\u001b[0m\u001b[0;34m,\u001b[0m \u001b[0;34m**\u001b[0m\u001b[0mkwargs\u001b[0m\u001b[0;34m)\u001b[0m\u001b[0;34m\u001b[0m\u001b[0m\n\u001b[1;32m    546\u001b[0m         \u001b[0;32melse\u001b[0m\u001b[0;34m:\u001b[0m\u001b[0;34m\u001b[0m\u001b[0m\n\u001b[0;32m--> 547\u001b[0;31m             \u001b[0mresult\u001b[0m \u001b[0;34m=\u001b[0m \u001b[0mself\u001b[0m\u001b[0;34m.\u001b[0m\u001b[0mforward\u001b[0m\u001b[0;34m(\u001b[0m\u001b[0;34m*\u001b[0m\u001b[0minput\u001b[0m\u001b[0;34m,\u001b[0m \u001b[0;34m**\u001b[0m\u001b[0mkwargs\u001b[0m\u001b[0;34m)\u001b[0m\u001b[0;34m\u001b[0m\u001b[0m\n\u001b[0m\u001b[1;32m    548\u001b[0m         \u001b[0;32mfor\u001b[0m \u001b[0mhook\u001b[0m \u001b[0;32min\u001b[0m \u001b[0mself\u001b[0m\u001b[0;34m.\u001b[0m\u001b[0m_forward_hooks\u001b[0m\u001b[0;34m.\u001b[0m\u001b[0mvalues\u001b[0m\u001b[0;34m(\u001b[0m\u001b[0;34m)\u001b[0m\u001b[0;34m:\u001b[0m\u001b[0;34m\u001b[0m\u001b[0m\n\u001b[1;32m    549\u001b[0m             \u001b[0mhook_result\u001b[0m \u001b[0;34m=\u001b[0m \u001b[0mhook\u001b[0m\u001b[0;34m(\u001b[0m\u001b[0mself\u001b[0m\u001b[0;34m,\u001b[0m \u001b[0minput\u001b[0m\u001b[0;34m,\u001b[0m \u001b[0mresult\u001b[0m\u001b[0;34m)\u001b[0m\u001b[0;34m\u001b[0m\u001b[0m\n",
      "\u001b[0;32m/anaconda/envs/py35/lib/python3.5/site-packages/torch/nn/modules/loss.py\u001b[0m in \u001b[0;36mforward\u001b[0;34m(self, input, target)\u001b[0m\n\u001b[1;32m    496\u001b[0m \u001b[0;34m\u001b[0m\u001b[0m\n\u001b[1;32m    497\u001b[0m     \u001b[0;32mdef\u001b[0m \u001b[0mforward\u001b[0m\u001b[0;34m(\u001b[0m\u001b[0mself\u001b[0m\u001b[0;34m,\u001b[0m \u001b[0minput\u001b[0m\u001b[0;34m,\u001b[0m \u001b[0mtarget\u001b[0m\u001b[0;34m)\u001b[0m\u001b[0;34m:\u001b[0m\u001b[0;34m\u001b[0m\u001b[0m\n\u001b[0;32m--> 498\u001b[0;31m         \u001b[0;32mreturn\u001b[0m \u001b[0mF\u001b[0m\u001b[0;34m.\u001b[0m\u001b[0mbinary_cross_entropy\u001b[0m\u001b[0;34m(\u001b[0m\u001b[0minput\u001b[0m\u001b[0;34m,\u001b[0m \u001b[0mtarget\u001b[0m\u001b[0;34m,\u001b[0m \u001b[0mweight\u001b[0m\u001b[0;34m=\u001b[0m\u001b[0mself\u001b[0m\u001b[0;34m.\u001b[0m\u001b[0mweight\u001b[0m\u001b[0;34m,\u001b[0m \u001b[0mreduction\u001b[0m\u001b[0;34m=\u001b[0m\u001b[0mself\u001b[0m\u001b[0;34m.\u001b[0m\u001b[0mreduction\u001b[0m\u001b[0;34m)\u001b[0m\u001b[0;34m\u001b[0m\u001b[0m\n\u001b[0m\u001b[1;32m    499\u001b[0m \u001b[0;34m\u001b[0m\u001b[0m\n\u001b[1;32m    500\u001b[0m \u001b[0;34m\u001b[0m\u001b[0m\n",
      "\u001b[0;32m/anaconda/envs/py35/lib/python3.5/site-packages/torch/nn/functional.py\u001b[0m in \u001b[0;36mbinary_cross_entropy\u001b[0;34m(input, target, weight, size_average, reduce, reduction)\u001b[0m\n\u001b[1;32m   2049\u001b[0m \u001b[0;34m\u001b[0m\u001b[0m\n\u001b[1;32m   2050\u001b[0m     return torch._C._nn.binary_cross_entropy(\n\u001b[0;32m-> 2051\u001b[0;31m         input, target, weight, reduction_enum)\n\u001b[0m\u001b[1;32m   2052\u001b[0m \u001b[0;34m\u001b[0m\u001b[0m\n\u001b[1;32m   2053\u001b[0m \u001b[0;34m\u001b[0m\u001b[0m\n",
      "\u001b[0;31mKeyboardInterrupt\u001b[0m: "
     ]
    }
   ],
   "source": [
    "epochs = 30\n",
    "\n",
    "model.train()\n",
    "for i in range(epochs):\n",
    "    h = model.init_hidden(batch_size)\n",
    "    \n",
    "    for inputs, labels in train_loader:\n",
    "#         print(inputs.size())\n",
    "        counter += 1\n",
    "        h = tuple([e.data for e in h])\n",
    "        inputs, labels = inputs.to(device), labels.to(device)\n",
    "        model.zero_grad()\n",
    "        output, h = model(inputs, h)\n",
    "        loss = criterion(output.squeeze(), labels.float())\n",
    "        loss.backward()\n",
    "        nn.utils.clip_grad_norm_(model.parameters(), clip)\n",
    "        optimizer.step()\n",
    "        \n",
    "#         if counter%print_every == 0:\n",
    "    val_h = model.init_hidden(val_batch_size)\n",
    "    val_losses = []\n",
    "    num_correct = 0\n",
    "    num_total=0\n",
    "    \n",
    "    model.eval()\n",
    "    for inp, lab in val_loader:\n",
    "        val_h = tuple([each.data for each in val_h])\n",
    "        inp, lab = inp.to(device), lab.to(device)\n",
    "        out, val_h = model(inp, val_h)\n",
    "        val_loss = criterion(out.squeeze(), lab.float())\n",
    "        val_losses.append(val_loss.item())\n",
    "        pred = torch.round(out.squeeze())  # Rounds the output to 0/1\n",
    "        correct_tensor = pred.eq(lab.float().view_as(pred))\n",
    "        correct = np.squeeze(correct_tensor.cpu().numpy())\n",
    "        num_correct += np.sum(correct)\n",
    "        num_total += pred.size(0)\n",
    "    val_acc = num_correct/num_total#len(test_loader.dataset)\n",
    "\n",
    "    model.train()\n",
    "    print(\"Epoch: {}/{}...\".format(i+1, epochs),\n",
    "          \"Step: {}...\".format(counter),\n",
    "          \"Loss: {:.6f}...\".format(loss.item()),\n",
    "          \"Val Loss: {:.6f}\".format(np.mean(val_losses)),\n",
    "          \"Val accuracy: {:.3f}%\".format(val_acc*100))\n",
    "    if np.mean(val_losses) <= valid_loss_min:\n",
    "        torch.save(model.state_dict(), './state_dict_lr_1024_1__4.pt')\n",
    "        print('Validation loss decreased ({:.6f} --> {:.6f}).  Saving model ...'.format(valid_loss_min,np.mean(val_losses)))\n",
    "        valid_loss_min = np.mean(val_losses)"
   ]
  },
  {
   "cell_type": "code",
   "execution_count": 326,
   "metadata": {},
   "outputs": [],
   "source": [
    "def plot_roc_curve(y, y_pred):\n",
    "    fpr, tpr, threshold = roc_curve(y, y_pred)\n",
    "    roc_auc = auc(fpr, tpr)\n",
    "    plt.title('Receiver Operating Characteristic')\n",
    "    plt.plot(fpr, tpr, 'b', label = 'AUC = %0.3f' % roc_auc)\n",
    "    plt.legend(loc = 'lower right')\n",
    "    plt.plot([0, 1], [0, 1],'r--')\n",
    "    plt.xlim([0, 1])\n",
    "    plt.ylim([0, 1])\n",
    "    plt.ylabel('True Positive Rate')\n",
    "    plt.xlabel('False Positive Rate')\n",
    "    plt.show()"
   ]
  },
  {
   "cell_type": "code",
   "execution_count": 324,
   "metadata": {},
   "outputs": [
    {
     "name": "stdout",
     "output_type": "stream",
     "text": [
      "Test loss: 0.593\n",
      "Test accuracy: 68.919%\n",
      "AUC score:  0.7485019688409519\n"
     ]
    }
   ],
   "source": [
    "# Loading the best model\n",
    "model.load_state_dict(torch.load('./state_dict_lr_1024_1__4.pt'))\n",
    "\n",
    "test_losses = []\n",
    "num_correct = 0\n",
    "num_total = 0\n",
    "h = model.init_hidden(val_batch_size)\n",
    "\n",
    "y = np.array([])\n",
    "y_pred = np.array([])\n",
    "\n",
    "model.eval()\n",
    "for inputs, labels in test_loader:\n",
    "    h = tuple([each.data for each in h])\n",
    "    inputs, labels = inputs.to(device), labels.to(device)\n",
    "    output, h = model(inputs, h)\n",
    "    test_loss = criterion(output.squeeze(), labels.float())\n",
    "    test_losses.append(test_loss.item())\n",
    "    pred = torch.round(output.squeeze())  # Rounds the output to 0/1\n",
    "    correct_tensor = pred.eq(labels.float().view_as(pred))\n",
    "    correct = np.squeeze(correct_tensor.cpu().numpy())\n",
    "    num_correct += np.sum(correct)\n",
    "    num_total += pred.size(0)\n",
    "    \n",
    "    y = np.concatenate((y, labels.cpu()))\n",
    "    y_pred = np.concatenate((y_pred, output.cpu().detach().numpy()))\n",
    "\n",
    "print(\"Test loss: {:.3f}\".format(np.mean(test_losses)))\n",
    "test_acc = num_correct/num_total#len(test_loader.dataset)\n",
    "print(\"Test accuracy: {:.3f}%\".format(test_acc*100))\n",
    "print(\"AUC score: \", roc_auc_score(y, y_pred))"
   ]
  },
  {
   "cell_type": "code",
   "execution_count": 327,
   "metadata": {},
   "outputs": [
    {
     "data": {
      "image/png": "[encoded data removed]",
      "text/plain": [
       "<Figure size 432x288 with 1 Axes>"
      ]
     },
     "metadata": {
      "needs_background": "light"
     },
     "output_type": "display_data"
    }
   ],
   "source": [
    "plot_roc_curve(y, y_pred)"
   ]
  },
  {
   "cell_type": "code",
   "execution_count": 345,
   "metadata": {},
   "outputs": [
    {
     "name": "stderr",
     "output_type": "stream",
     "text": [
      "/anaconda/envs/py35/lib/python3.5/site-packages/torch/nn/modules/rnn.py:51: UserWarning: dropout option adds dropout after all but last recurrent layer, so non-zero dropout expects num_layers greater than 1, but got dropout=0.5 and num_layers=1\n",
      "  \"num_layers={}\".format(dropout, num_layers))\n"
     ]
    },
    {
     "name": "stdout",
     "output_type": "stream",
     "text": [
      "Test loss: 0.591\n",
      "Test accuracy: 69.088%\n",
      "AUC score:  0.7505335844318896\n"
     ]
    }
   ],
   "source": [
    "def get_model_with_name(name, n_layers=2):\n",
    "    new_model = AdmissionNet(embedding_dim, hidden_dim, n_layers)\n",
    "    new_model.to(device)\n",
    "    new_model.load_state_dict(torch.load(name))\n",
    "    return new_model\n",
    "\n",
    "# model_1 = get_model_with_name('./state_dict_lr_001_1024_2.pt')\n",
    "# model_2 = get_model_with_name('./state_dict_lr_001_1024_2__2.pt')\n",
    "# model_3 = get_model_with_name('./state_dict_lr_001_1024_2__3.pt')\n",
    "# model_4 = get_model_with_name('./state_dict_lr_001_1024_2__4.pt')\n",
    "\n",
    "model_names = ['./state_dict_lr_001_1024_2.pt', \n",
    "    './state_dict_lr_001_1024_2__3.pt']\n",
    "#, './state_dict_lr_001_1024_2__2.pt'\n",
    "\n",
    "#state_dict_lr_1024_1__4\n",
    "# model_names = ['./state_dict_lr_1024_1__1.pt', './state_dict_lr_1024_1__2.pt',\n",
    "#     './state_dict_lr_1024_1__3.pt', './state_dict_lr_1024_1__4.pt']\n",
    "\n",
    "models = [get_model_with_name(name) for name in model_names]\n",
    "models.append(get_model_with_name('./state_dict_lr_1024_1__1.pt', n_layers=1))\n",
    "models.append(get_model_with_name('./state_dict_lr_1024_1__2.pt', n_layers=1))\n",
    "models.append(get_model_with_name('./state_dict_lr_1024_1__3.pt', n_layers=1))\n",
    "models.append(get_model_with_name('./state_dict_lr_1024_1__4.pt', n_layers=1))\n",
    "models.append(get_model_with_name('./state_dict_lr_001_1024_2.pt', n_layers=2))\n",
    "# models.append(get_model_with_name('./state_dict_lr_001_1024_2__2.pt', n_layers=2))\n",
    "models.append(get_model_with_name('./state_dict_lr_001_1024_2__3.pt', n_layers=2))\n",
    "# models.append(get_model_with_name('./state_dict_lr_001_1024_2__4.pt', n_layers=1))\n",
    "\n",
    "test_losses = []\n",
    "num_correct = 0\n",
    "num_total = 0\n",
    "# h = model.init_hidden(val_batch_size)\n",
    "hs = [m.init_hidden(val_batch_size) for m in models]\n",
    "\n",
    "y = np.array([])\n",
    "y_pred = np.array([])\n",
    "\n",
    "model.eval()\n",
    "for inputs, labels in test_loader:\n",
    "    hs = [tuple([each.data for each in h]) for h in hs]\n",
    "    inputs, labels = inputs.to(device), labels.to(device)\n",
    "    \n",
    "    outputs = []#np.array([[]])\n",
    "    for i in range(len(hs)):\n",
    "        output, hs[i] = models[i](inputs, hs[i])\n",
    "        outputs.append(output.cpu().detach().numpy())\n",
    "#         outputs = np.concatenate((outputs, output.cpu().detach().numpy()))\n",
    "    outputs = np.asarray(outputs)\n",
    "#     print(outputs.shape)\n",
    "#     print(outputs)\n",
    "    output = np.mean(outputs, axis=0)\n",
    "#     print(output.shape)\n",
    "#     output = outputs[0]\n",
    "    output_tensor = torch.Tensor(list(output)).to(device)\n",
    "    \n",
    "    test_loss = criterion(output_tensor.squeeze(), labels.float())\n",
    "    test_losses.append(test_loss.item())\n",
    "    pred = torch.round(output_tensor.squeeze())  # Rounds the output to 0/1\n",
    "    correct_tensor = pred.eq(labels.float().view_as(pred))\n",
    "    correct = np.squeeze(correct_tensor.cpu().numpy())\n",
    "    num_correct += np.sum(correct)\n",
    "    num_total += pred.size(0)\n",
    "    \n",
    "    y = np.concatenate((y, labels.cpu()))\n",
    "    y_pred = np.concatenate((y_pred, output_tensor.cpu().detach().numpy()))\n",
    "\n",
    "print(\"Test loss: {:.3f}\".format(np.mean(test_losses)))\n",
    "test_acc = num_correct/num_total#len(test_loader.dataset)\n",
    "print(\"Test accuracy: {:.3f}%\".format(test_acc*100))\n",
    "print(\"AUC score: \", roc_auc_score(y, y_pred))"
   ]
  },
  {
   "cell_type": "code",
   "execution_count": 346,
   "metadata": {},
   "outputs": [
    {
     "data": {
      "image/png": "[encoded data removed]",
      "text/plain": [
       "<Figure size 432x288 with 1 Axes>"
      ]
     },
     "metadata": {
      "needs_background": "light"
     },
     "output_type": "display_data"
    }
   ],
   "source": [
    "plot_roc_curve(y, y_pred)"
   ]
  },
  {
   "cell_type": "code",
   "execution_count": 260,
   "metadata": {},
   "outputs": [
    {
     "data": {
      "text/plain": [
       "array([0.6013828 , 0.36511523, 0.18351713, 0.699715  ], dtype=float32)"
      ]
     },
     "execution_count": 260,
     "metadata": {},
     "output_type": "execute_result"
    }
   ],
   "source": [
    "Test loss: 0.592\n",
    "Test accuracy: 69.088%\n",
    "AUC score:  0.746824173942818"
   ]
  },
  {
   "cell_type": "code",
   "execution_count": 238,
   "metadata": {},
   "outputs": [
    {
     "data": {
      "text/plain": [
       "592"
      ]
     },
     "execution_count": 238,
     "metadata": {},
     "output_type": "execute_result"
    }
   ],
   "source": [
    "len(y)"
   ]
  },
  {
   "cell_type": "code",
   "execution_count": 284,
   "metadata": {},
   "outputs": [
    {
     "data": {
      "text/plain": [
       "0.7510357815442561"
      ]
     },
     "execution_count": 284,
     "metadata": {},
     "output_type": "execute_result"
    }
   ],
   "source": [
    "\n",
    "roc_auc_score(y, y_pred)"
   ]
  },
  {
   "cell_type": "code",
   "execution_count": null,
   "metadata": {},
   "outputs": [],
   "source": []
  }
 ],
 "metadata": {
  "kernelspec": {
   "display_name": "Python 3.5",
   "language": "python",
   "name": "python3"
  },
  "language_info": {
   "codemirror_mode": {
    "name": "ipython",
    "version": 3
   },
   "file_extension": ".py",
   "mimetype": "text/x-python",
   "name": "python",
   "nbconvert_exporter": "python",
   "pygments_lexer": "ipython3",
   "version": "3.5.6"
  }
 },
 "nbformat": 4,
 "nbformat_minor": 2
}
